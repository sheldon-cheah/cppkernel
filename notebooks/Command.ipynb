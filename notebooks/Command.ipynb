{
 "cells": [
  {
   "cell_type": "markdown",
   "metadata": {},
   "source": [
    "# Command Design Pattern"
   ]
  },
  {
   "cell_type": "code",
   "execution_count": 1,
   "metadata": {},
   "outputs": [],
   "source": [
    "class ICommand\n",
    "{ \n",
    "    public:\n",
    "    virtual ~ICommand() {}\n",
    "    virtual void execute() = 0;\n",
    "}"
   ]
  },
  {
   "cell_type": "code",
   "execution_count": 2,
   "metadata": {},
   "outputs": [],
   "source": [
    "#include <iostream>\n",
    "class CLight\n",
    "{\n",
    "    public:\n",
    "    CLight() {} \n",
    "    ~CLight() {}\n",
    "    void on(){std::cout << \"Light ON\\n\";}\n",
    "    void off() {std::cout << \"Light OFF\\n\";}\n",
    "\n",
    "}"
   ]
  },
  {
   "cell_type": "code",
   "execution_count": 3,
   "metadata": {},
   "outputs": [],
   "source": [
    "class CLightOnCommand: public ICommand\n",
    "{\n",
    "    public:\n",
    "    CLightOnCommand(CLight &light)\n",
    "    {\n",
    "        m_light = light;\n",
    "    }\n",
    "    virtual ~CLightOnCommand() {}\n",
    "    void virtual execute()\n",
    "    {\n",
    "        m_light.on();\n",
    "    }\n",
    "    \n",
    "    private:\n",
    "    CLight m_light;\n",
    "    \n",
    "}"
   ]
  },
  {
   "cell_type": "code",
   "execution_count": 4,
   "metadata": {},
   "outputs": [],
   "source": [
    "class CSimpleRemoteControl\n",
    "{\n",
    "    public:\n",
    "    CSimpleRemoteControl() {}\n",
    "    ~CSimpleRemoteControl() {}\n",
    "    \n",
    "    void setCommand(ICommand *command)\n",
    "    {\n",
    "        slot = command;\n",
    "    }\n",
    "    \n",
    "    void buttonWasPressed()\n",
    "    {\n",
    "        slot->execute();\n",
    "    }\n",
    "    \n",
    "    private:\n",
    "    ICommand *slot;\n",
    "}"
   ]
  },
  {
   "cell_type": "markdown",
   "metadata": {},
   "source": [
    "## Tester"
   ]
  },
  {
   "cell_type": "code",
   "execution_count": 5,
   "metadata": {},
   "outputs": [
    {
     "name": "stdout",
     "output_type": "stream",
     "text": [
      "Light ON\n"
     ]
    }
   ],
   "source": [
    "CSimpleRemoteControl remote;\n",
    "CLight light;\n",
    "CLightOnCommand lightOn(light);\n",
    "remote.setCommand(&lightOn);\n",
    "remote.buttonWasPressed();"
   ]
  },
  {
   "cell_type": "code",
   "execution_count": null,
   "metadata": {},
   "outputs": [],
   "source": []
  }
 ],
 "metadata": {
  "kernelspec": {
   "display_name": "C++17",
   "language": "C++17",
   "name": "xcpp17"
  },
  "language_info": {
   "codemirror_mode": "text/x-c++src",
   "file_extension": ".cpp",
   "mimetype": "text/x-c++src",
   "name": "c++",
   "version": "-std=c++17"
  }
 },
 "nbformat": 4,
 "nbformat_minor": 2
}
