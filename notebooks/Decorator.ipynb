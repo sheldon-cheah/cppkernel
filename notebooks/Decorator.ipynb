{
 "cells": [
  {
   "cell_type": "markdown",
   "metadata": {},
   "source": [
    "# Decoration Design Pattern"
   ]
  },
  {
   "cell_type": "code",
   "execution_count": 1,
   "metadata": {},
   "outputs": [],
   "source": [
    "class CBeverage{\n",
    "    protected:\n",
    "    std::string description;\n",
    "    \n",
    "    public:\n",
    "    CBeverage(){\n",
    "        description = \"Unknown\";\n",
    "    }\n",
    "    virtual ~CBeverage(){}\n",
    "    \n",
    "    std::string getDescription()\n",
    "    {\n",
    "        return description;\n",
    "    }\n",
    "    \n",
    "    virtual double cost()\n",
    "    {\n",
    "        return 0;\n",
    "    }\n",
    "}\n"
   ]
  },
  {
   "cell_type": "code",
   "execution_count": 2,
   "metadata": {},
   "outputs": [],
   "source": [
    "class CCondimentDecorator: public CBeverage\n",
    "{\n",
    "    public:\n",
    "    CCondimentDecorator(){}\n",
    "    virtual ~CCondimentDecorator(){}\n",
    "    \n",
    "    virtual std::string getDescription()\n",
    "    {\n",
    "        return \"empty\";\n",
    "    }\n",
    "\n",
    "}"
   ]
  },
  {
   "cell_type": "code",
   "execution_count": 3,
   "metadata": {},
   "outputs": [],
   "source": [
    "class CEspresso: public CBeverage\n",
    "{\n",
    "    public:\n",
    "    CEspresso()\n",
    "    {\n",
    "        description = \"Espresso\";\n",
    "    }\n",
    "    virtual ~CEspresso() override {}\n",
    "    virtual double cost() override\n",
    "    {\n",
    "        return 1.99;\n",
    "    }\n",
    "}"
   ]
  },
  {
   "cell_type": "code",
   "execution_count": 4,
   "metadata": {},
   "outputs": [],
   "source": [
    "class CHouseBlend: public CBeverage\n",
    "{\n",
    "    public:\n",
    "    CHouseBlend()\n",
    "    {\n",
    "        description = \"House Blend Coffee\";\n",
    "    }\n",
    "    \n",
    "    virtual ~CHouseBlend() override {}\n",
    "    virtual double cost() override\n",
    "    {\n",
    "        return 0.89;\n",
    "    }\n",
    "}"
   ]
  },
  {
   "cell_type": "code",
   "execution_count": 5,
   "metadata": {},
   "outputs": [],
   "source": [
    "class CMocha: public CCondimentDecorator\n",
    "{\n",
    "    private:\n",
    "    CBeverage& m_beverage;\n",
    "    \n",
    "    public:\n",
    "    CMocha(CBeverage& beverage):m_beverage(beverage)\n",
    "    {\n",
    "        description = m_beverage.getDescription() + \" + Mocha\";\n",
    "    }\n",
    "    virtual ~CMocha() override {}\n",
    "    \n",
    "    virtual std::string getDescription() override\n",
    "    {\n",
    "       return m_beverage.getDescription() + \" + Mocha\";\n",
    "    }\n",
    "    \n",
    "    virtual double cost() override\n",
    "    {\n",
    "        return 0.20 + m_beverage.cost();\n",
    "    }\n",
    "}"
   ]
  },
  {
   "cell_type": "code",
   "execution_count": 6,
   "metadata": {},
   "outputs": [],
   "source": [
    "class CWhip: public CCondimentDecorator\n",
    "{\n",
    "    private:\n",
    "    CBeverage& m_beverage;\n",
    "    \n",
    "    public:\n",
    "    CWhip(CBeverage& beverage):m_beverage(beverage)\n",
    "    {\n",
    "        description = m_beverage.getDescription() + \" + Whip\";\n",
    "    }\n",
    "    virtual ~CWhip() override {}\n",
    "    \n",
    "    virtual std::string getDescription() override\n",
    "    {\n",
    "       return m_beverage.getDescription() + \" + Whip\";\n",
    "    }\n",
    "    \n",
    "    virtual double cost() override\n",
    "    {\n",
    "        return 0.40 + m_beverage.cost();\n",
    "    }\n",
    "}"
   ]
  },
  {
   "cell_type": "code",
   "execution_count": 7,
   "metadata": {},
   "outputs": [
    {
     "name": "stdout",
     "output_type": "stream",
     "text": [
      "Espresso --- Cost: $1.99\n",
      "Espresso + Mocha --- Cost: $2.19\n",
      "Espresso + Mocha + Whip --- Cost: $2.59\n"
     ]
    }
   ],
   "source": [
    "#include <iostream>\n",
    "\n",
    "CEspresso espresso;\n",
    "std::cout << espresso.getDescription() << \" --- Cost: $\" << espresso.cost() << std::endl;;\n",
    "\n",
    "CMocha mocha(espresso);\n",
    "std::cout << mocha.getDescription() << \" --- Cost: $\" << mocha.cost() << std::endl;\n",
    "\n",
    "CWhip whip(mocha);\n",
    "std::cout << whip.getDescription() << \" --- Cost: $\" << whip.cost() << std::endl;\n"
   ]
  },
  {
   "cell_type": "code",
   "execution_count": null,
   "metadata": {},
   "outputs": [],
   "source": []
  }
 ],
 "metadata": {
  "kernelspec": {
   "display_name": "C++11",
   "language": "C++11",
   "name": "xcpp11"
  },
  "language_info": {
   "codemirror_mode": "text/x-c++src",
   "file_extension": ".cpp",
   "mimetype": "text/x-c++src",
   "name": "c++",
   "version": "-std=c++11"
  }
 },
 "nbformat": 4,
 "nbformat_minor": 2
}
