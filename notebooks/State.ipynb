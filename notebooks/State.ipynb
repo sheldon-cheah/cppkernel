{
 "cells": [
  {
   "cell_type": "markdown",
   "metadata": {},
   "source": [
    "# State Design Pattern"
   ]
  },
  {
   "cell_type": "code",
   "execution_count": 1,
   "metadata": {},
   "outputs": [],
   "source": [
    "class IState{\n",
    "    public:\n",
    "    virtual ~IState() {}\n",
    "    virtual void insertQuarter() = 0;\n",
    "    virtual void ejectQuarter() = 0;\n",
    "    virtual void turnCrank() = 0;\n",
    "    virtual void dispense() = 0;\n",
    "};"
   ]
  },
  {
   "cell_type": "code",
   "execution_count": 2,
   "metadata": {},
   "outputs": [],
   "source": [
    "class CSoldState: public IState\n",
    "{\n",
    "public:\n",
    "CSoldState(){}\n",
    "\n",
    "virtual void insertQuarter() override final {}\n",
    "virtual void ejectQuarter() override final{}\n",
    "virtual void turnCrank() override final{}\n",
    "virtual void dispense() override final{}\n",
    "    \n",
    "};"
   ]
  },
  {
   "cell_type": "code",
   "execution_count": 3,
   "metadata": {},
   "outputs": [],
   "source": [
    "class CSoldOutState: public IState\n",
    "{\n",
    "public:\n",
    "CSoldOutState(){}\n",
    "virtual ~CSoldOutState() override {}\n",
    "virtual void insertQuarter() override final {}\n",
    "virtual void ejectQuarter() override final{}\n",
    "virtual void turnCrank() override final{}\n",
    "virtual void dispense() override final{}\n",
    "\n",
    "\n",
    "    \n",
    "};"
   ]
  },
  {
   "cell_type": "code",
   "execution_count": 4,
   "metadata": {},
   "outputs": [],
   "source": [
    "#include <iostream>\n",
    "class CGumballMachine;\n",
    "\n",
    "class CNoQuarterState: public IState\n",
    "{\n",
    "public:\n",
    "CNoQuarterState(CGumballMachine& gumballMachine):m_GumballMachine(gumballMachine){}\n",
    "virtual ~CNoQuarterState() override {}\n",
    "virtual void insertQuarter() override final \n",
    "{\n",
    "    std::cout << \"You inserted a quarter\\n\"\n",
    "    m_GumballMachine.setState();\n",
    "}\n",
    "virtual void ejectQuarter() override final{}\n",
    "virtual void turnCrank() override final{}\n",
    "virtual void dispense() override final{}\n",
    "    \n",
    "private:\n",
    "CGumballMachine& m_GumballMachine\n",
    "    \n",
    "};"
   ]
  },
  {
   "cell_type": "code",
   "execution_count": 5,
   "metadata": {},
   "outputs": [],
   "source": [
    "class CHasQuarterState: public IState\n",
    "{\n",
    "public:\n",
    "CHasQuarterState(){}\n",
    "virtual ~CHasQuarterState() override {}\n",
    "virtual void insertQuarter() override final {}\n",
    "virtual void ejectQuarter() override final{}\n",
    "virtual void turnCrank() override final{}\n",
    "virtual void dispense() override final{}\n",
    "    \n",
    "};"
   ]
  },
  {
   "cell_type": "code",
   "execution_count": 6,
   "metadata": {},
   "outputs": [],
   "source": [
    "class CWinnerState: public IState\n",
    "{\n",
    "public:\n",
    "CWinnerState(){}\n",
    "virtual ~CWinnerState() override {}\n",
    "virtual void insertQuarter() override final {}\n",
    "virtual void ejectQuarter() override final{}\n",
    "virtual void turnCrank() override final{}\n",
    "virtual void dispense() override final{}\n",
    "    \n",
    "};"
   ]
  },
  {
   "cell_type": "code",
   "execution_count": 7,
   "metadata": {},
   "outputs": [],
   "source": [
    "#include <iostream>\n",
    "class CGumballMachine\n",
    "{\n",
    "    public:\n",
    "    CGumballMachine(int numberGumballs):m_state(nullptr),m_count(numberGumballs)\n",
    "    {\n",
    "        soldOutState = new CSoldOutState;\n",
    "        noQuarterState = new CNoQuarterState;\n",
    "        hasQuarterState = new CHasQuarterState;\n",
    "        soldState = new CSoldState;\n",
    "        m_state = soldOutState;\n",
    "        if (m_count > 0)\n",
    "        {\n",
    "            m_state = noQuarterState;\n",
    "        }\n",
    "    }\n",
    "    virtual ~CGumballMachine(){}\n",
    "    \n",
    "    void insertQuarter()\n",
    "    {\n",
    "        m_state->insertQuarter();\n",
    "    }\n",
    "    \n",
    "    void ejectQuarter()\n",
    "    {\n",
    "        m_state->ejectQuarter();\n",
    "    }\n",
    "    \n",
    "    void turnCrank()\n",
    "    {\n",
    "        m_state->turnCrank();\n",
    "        m_state->dispense();\n",
    "    }\n",
    "    \n",
    "    void setState(IState* state)\n",
    "    {\n",
    "        m_state = state;\n",
    "    }\n",
    "    \n",
    "    void releaseBall()\n",
    "    {\n",
    "        std::cout << \"A gumball comes rolling out the slot...\";\n",
    "        if (m_count !=0)\n",
    "        {\n",
    "            m_count = m_count - 1;\n",
    "        }\n",
    "    }\n",
    "    \n",
    "    private:\n",
    "    IState* soldOutState;\n",
    "    IState* noQuarterState;\n",
    "    IState* hasQuarterState;\n",
    "    IState* soldState;\n",
    "    \n",
    "    IState* m_state;\n",
    "    int m_count = 0;\n",
    "}"
   ]
  },
  {
   "cell_type": "code",
   "execution_count": null,
   "metadata": {},
   "outputs": [],
   "source": []
  }
 ],
 "metadata": {
  "kernelspec": {
   "display_name": "C++17",
   "language": "C++17",
   "name": "xcpp17"
  },
  "language_info": {
   "codemirror_mode": "text/x-c++src",
   "file_extension": ".cpp",
   "mimetype": "text/x-c++src",
   "name": "c++",
   "version": "-std=c++17"
  }
 },
 "nbformat": 4,
 "nbformat_minor": 4
}
