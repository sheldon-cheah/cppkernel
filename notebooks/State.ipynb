{
 "cells": [
  {
   "cell_type": "markdown",
   "metadata": {},
   "source": [
    "# State Design Pattern"
   ]
  },
  {
   "cell_type": "code",
   "execution_count": 1,
   "metadata": {},
   "outputs": [],
   "source": [
    "class IState{\n",
    "    public:\n",
    "    virtual ~IState() {}\n",
    "    virtual void insertQuater() = 0;\n",
    "    virtual void ejectQuater() = 0;\n",
    "    virtual void turnCrank() = 0;\n",
    "    virtual void dispense() = 0;\n",
    "};"
   ]
  },
  {
   "cell_type": "code",
   "execution_count": 2,
   "metadata": {},
   "outputs": [],
   "source": [
    "class CSoldState: public IState\n",
    "{\n",
    "public:\n",
    "CSoldState(){}\n",
    "\n",
    "virtual void insertQuater() override final {}\n",
    "virtual void ejectQuater() override final{}\n",
    "virtual void turnCrank() override final{}\n",
    "virtual void dispense() override final{}\n",
    "    \n",
    "};"
   ]
  },
  {
   "cell_type": "code",
   "execution_count": 3,
   "metadata": {},
   "outputs": [],
   "source": [
    "class CSoldOutState: public IState\n",
    "{\n",
    "public:\n",
    "CSoldOutState(){}\n",
    "virtual ~CSoldOutState() override {}\n",
    "virtual void insertQuater() override final {}\n",
    "virtual void ejectQuater() override final{}\n",
    "virtual void turnCrank() override final{}\n",
    "virtual void dispense() override final{}\n",
    "    \n",
    "};"
   ]
  },
  {
   "cell_type": "code",
   "execution_count": 4,
   "metadata": {},
   "outputs": [],
   "source": [
    "class CNoQuaterState: public IState\n",
    "{\n",
    "public:\n",
    "CNoQuaterState(){}\n",
    "virtual ~CNoQuaterState() override {}\n",
    "virtual void insertQuater() override final {}\n",
    "virtual void ejectQuater() override final{}\n",
    "virtual void turnCrank() override final{}\n",
    "virtual void dispense() override final{}\n",
    "    \n",
    "};"
   ]
  },
  {
   "cell_type": "code",
   "execution_count": 5,
   "metadata": {},
   "outputs": [],
   "source": [
    "class CHasQuaterState: public IState\n",
    "{\n",
    "public:\n",
    "CHasQuaterState(){}\n",
    "virtual ~CHasQuaterState() override {}\n",
    "virtual void insertQuater() override final {}\n",
    "virtual void ejectQuater() override final{}\n",
    "virtual void turnCrank() override final{}\n",
    "virtual void dispense() override final{}\n",
    "    \n",
    "};"
   ]
  },
  {
   "cell_type": "code",
   "execution_count": 6,
   "metadata": {},
   "outputs": [],
   "source": [
    "class CWinnerState: public IState\n",
    "{\n",
    "public:\n",
    "CWinnerState(){}\n",
    "virtual ~CWinnerState() override {}\n",
    "virtual void insertQuater() override final {}\n",
    "virtual void ejectQuater() override final{}\n",
    "virtual void turnCrank() override final{}\n",
    "virtual void dispense() override final{}\n",
    "    \n",
    "};"
   ]
  }
 ],
 "metadata": {
  "kernelspec": {
   "display_name": "C++17",
   "language": "C++17",
   "name": "xcpp17"
  },
  "language_info": {
   "codemirror_mode": "text/x-c++src",
   "file_extension": ".cpp",
   "mimetype": "text/x-c++src",
   "name": "c++",
   "version": "-std=c++17"
  }
 },
 "nbformat": 4,
 "nbformat_minor": 4
}
