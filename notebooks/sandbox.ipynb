{
 "cells": [
  {
   "cell_type": "markdown",
   "metadata": {},
   "source": [
    "# Observer"
   ]
  },
  {
   "cell_type": "markdown",
   "metadata": {},
   "source": [
    "Implementation "
   ]
  },
  {
   "cell_type": "code",
   "execution_count": 1,
   "metadata": {},
   "outputs": [],
   "source": [
    "class IObserver{\n",
    "    public:\n",
    "    IObserver();\n",
    "    virtual void update(double temp, double humidity, double pressure) const = 0;\n",
    "    \n",
    "    private:\n",
    "    virtual ~IObserver();\n",
    "}"
   ]
  },
  {
   "cell_type": "code",
   "execution_count": 2,
   "metadata": {},
   "outputs": [],
   "source": [
    "class ISubject {\n",
    "    public:\n",
    "    ISubject();\n",
    "    virtual void registerObserver(IObserver observer) const = 0;\n",
    "    virtual void removeObserver(IObserver observer) const = 0;\n",
    "    virtual void notifyObservers() const = 0;\n",
    "    \n",
    "    private:\n",
    "    virtual ~ISubject();\n",
    "}"
   ]
  },
  {
   "cell_type": "code",
   "execution_count": null,
   "metadata": {},
   "outputs": [],
   "source": [
    "class IDisplayElement{\n",
    "    public:\n",
    "    IDisplayElement();\n",
    "    virtual void display() cont = 0;\n",
    "    \n",
    "    private:\n",
    "    virtual ~IDisplayElement();\n",
    "}"
   ]
  },
  {
   "cell_type": "markdown",
   "metadata": {},
   "source": [
    "Now we are good to define conreate class"
   ]
  },
  {
   "cell_type": "code",
   "execution_count": null,
   "metadata": {},
   "outputs": [],
   "source": [
    "class CWeatherData:public ISubject{\n",
    "    private:\n",
    "    std::list<IObserver> observers;\n",
    "    std::double temperature;\n",
    "    std::double humidity;\n",
    "    std::double pressure;\n",
    "    virtual ~CWeatherData();\n",
    "    \n",
    "    public:\n",
    "    WeatherData()\n",
    "    {\n",
    "        observers = new std::list();\n",
    "    }\n",
    "    \n",
    "    void registerObserver(IObserver)\n",
    "    {\n",
    "        observers.push_back(IObserver);\n",
    "    }\n",
    "    \n",
    "    void removeObserver(IObserver)\n",
    "    {\n",
    "        observers.remove(IObserver);\n",
    "    }\n",
    "    \n",
    "    void notifyObservers()\n",
    "    {\n",
    "        for (observers::iterator observer=observers.begin(); observer!=observers.end(); ++observer)\n",
    "        {\n",
    "            observer.update(temperature, humidity, pressure);\n",
    "        }\n",
    "    }\n",
    "    \n",
    "    void measurementsChanged()\n",
    "    {\n",
    "        notifyObservers();\n",
    "    }\n",
    "    \n",
    "    //For testbed\n",
    "    void setMeasurement(double temperature, double humidity, double pressure)\n",
    "    {\n",
    "        this->temperature = temperature;\n",
    "        this->humidity = humidity;\n",
    "        this->pressure = pressure;\n",
    "        measurementsChanged();\n",
    "    }\n",
    "        \n",
    "}"
   ]
  },
  {
   "cell_type": "code",
   "execution_count": null,
   "metadata": {},
   "outputs": [],
   "source": [
    "class CCurrentConditionDisplay:public IObservers, public IDisplayElement{\n",
    "    private:\n",
    "    std::double temperature;\n",
    "    std::double humidity;\n",
    "    std::double pressure;\n",
    "    ISubject weatherData;\n",
    "    \n",
    "    public:\n",
    "    CCurrentConditionDisplay(ISubject weatherData)\n",
    "    {\n",
    "        this->weatherData = weatherData;\n",
    "        weatherData.registerObserver(this);\n",
    "    }\n",
    "    \n",
    "    void update(double temperature, double humidity, double pressure)\n",
    "    {\n",
    "        this->temperature = temperature;\n",
    "        this->humidity = humidity;\n",
    "        display();\n",
    "    }\n",
    "    \n",
    "    void display()\n",
    "    {\n",
    "        std::cout << \"temperature: \"<< temperature << std::endl;\n",
    "        std::cout << \"humidity: \"<< humidity << std::endl;\n",
    "    }\n",
    "    \n",
    "}"
   ]
  }
 ],
 "metadata": {
  "kernelspec": {
   "display_name": "C++14",
   "language": "C++14",
   "name": "xcpp14"
  },
  "language_info": {
   "codemirror_mode": "text/x-c++src",
   "file_extension": ".cpp",
   "mimetype": "text/x-c++src",
   "name": "c++",
   "version": "-std=c++14"
  }
 },
 "nbformat": 4,
 "nbformat_minor": 2
}
