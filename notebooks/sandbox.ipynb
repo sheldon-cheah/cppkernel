{
 "cells": [
  {
   "cell_type": "markdown",
   "metadata": {},
   "source": [
    "# Observer"
   ]
  },
  {
   "cell_type": "markdown",
   "metadata": {},
   "source": [
    "Implementation "
   ]
  },
  {
   "cell_type": "code",
   "execution_count": 1,
   "metadata": {},
   "outputs": [],
   "source": [
    "class IObserver{\n",
    "    public:\n",
    "    virtual ~IObserver() {}\n",
    "    virtual void update(double temp, double humidity, double pressure) = 0;\n",
    "};"
   ]
  },
  {
   "cell_type": "code",
   "execution_count": 2,
   "metadata": {},
   "outputs": [],
   "source": [
    "class ISubject {\n",
    "    public:\n",
    "    virtual ~ISubject() {}\n",
    "    virtual void registerObserver(IObserver& observer) = 0;\n",
    "    virtual void removeObserver(IObserver& observer)  = 0;\n",
    "    virtual void notifyObservers()  = 0;\n",
    "};"
   ]
  },
  {
   "cell_type": "code",
   "execution_count": 3,
   "metadata": {},
   "outputs": [],
   "source": [
    "class IDisplayElement{\n",
    "    public:\n",
    "    virtual ~IDisplayElement() {}\n",
    "    virtual void display() const = 0;\n",
    "};"
   ]
  },
  {
   "cell_type": "markdown",
   "metadata": {},
   "source": [
    "Now we are good to define conreate class"
   ]
  },
  {
   "cell_type": "code",
   "execution_count": 4,
   "metadata": {},
   "outputs": [],
   "source": [
    "class CWeatherData:public ISubject{\n",
    "    private:\n",
    "    std::list<IObserver*> observers;\n",
    "    double temperature;\n",
    "    double humidity;\n",
    "    double pressure;\n",
    "\n",
    "\n",
    "    public:\n",
    "\n",
    "    CWeatherData(){}\n",
    "\n",
    "    virtual ~CWeatherData() override {}\n",
    "\n",
    "    virtual void registerObserver(IObserver& observer) override\n",
    "    {\n",
    "        observers.push_back(&observer);\n",
    "    }\n",
    "\n",
    "    void removeObserver(IObserver& observer) override\n",
    "    {\n",
    "        observers.remove(&observer);\n",
    "    }\n",
    "\n",
    "    void notifyObservers() override\n",
    "    {\n",
    "        for (IObserver* i: observers)\n",
    "        {\n",
    "            i->update(temperature, humidity, pressure);\n",
    "        }\n",
    "    }\n",
    "\n",
    "    void measurementsChanged()\n",
    "    {\n",
    "        notifyObservers();\n",
    "    }\n",
    "\n",
    "    //For testbed\n",
    "    void setMeasurement(double temperature, double humidity, double pressure)\n",
    "    {\n",
    "        this->temperature = temperature;\n",
    "        this->humidity = humidity;\n",
    "        this->pressure = pressure;\n",
    "        measurementsChanged();\n",
    "    }\n",
    "\n",
    "};"
   ]
  },
  {
   "cell_type": "code",
   "execution_count": 7,
   "metadata": {},
   "outputs": [],
   "source": [
    "class CCurrentConditionDisplay: public IObserver, public IDisplayElement\n",
    "{\n",
    "private:\n",
    "    ISubject& m_subject;\n",
    "    double m_temp;\n",
    "    double m_humidity;\n",
    "    double m_pressure;\n",
    "\n",
    "public:\n",
    "    CCurrentConditionDisplay(ISubject& subject ):m_subject(subject)\n",
    "    {\n",
    "        m_subject.registerObserver(*this);\n",
    "    }\n",
    "\n",
    "    virtual ~CCurrentConditionDisplay() final override {}\n",
    "\n",
    "    virtual void update(double temp, double humidity, double pressure) override\n",
    "    {\n",
    "        m_temp = temp;\n",
    "        m_humidity = humidity;\n",
    "        m_pressure = pressure;\n",
    "\n",
    "        display();\n",
    "    }\n",
    "\n",
    "    virtual void display() const override\n",
    "    {\n",
    "        printf(\"Temperature: %.2f\",m_temp);\n",
    "        printf(\"Humidity: %.2f\",m_humidity);\n",
    "        printf(\"Pressure: %.2f\",m_pressure);\n",
    "    }\n",
    "\n",
    "};"
   ]
  },
  {
   "cell_type": "code",
   "execution_count": 8,
   "metadata": {},
   "outputs": [],
   "source": [
    "class CStatisticDisplay: public IObserver, public IDisplayElement\n",
    "{\n",
    "private:\n",
    "    ISubject& m_subject;\n",
    "    double m_avgTemp;\n",
    "    double m_avgHumidity;\n",
    "    double m_avgPressure;\n",
    "    uint count;\n",
    "\n",
    "public:\n",
    "    CStatisticDisplay(ISubject& subject):m_subject(subject), m_avgTemp(0), m_avgHumidity(0), m_avgPressure(0), count(0)\n",
    "    {\n",
    "        m_subject.registerObserver(*this);\n",
    "    }\n",
    "\n",
    "    virtual ~CStatisticDisplay() final override {}\n",
    "\n",
    "    virtual void update(double temp, double humidity, double pressure) override\n",
    "    {\n",
    "        ++count;\n",
    "        m_avgTemp = (m_avgTemp + temp)/count;\n",
    "        m_avgHumidity = (m_avgHumidity + humidity) / count;\n",
    "        m_avgPressure = (m_avgPressure + pressure) / count;\n",
    "\n",
    "        display();\n",
    "    }\n",
    "\n",
    "    virtual void display() const override\n",
    "    {\n",
    "        printf(\"Average Temperature: %.2f\",m_avgTemp);\n",
    "        printf(\"Average Humidity: %.2f\",m_avgHumidity);\n",
    "        printf(\"Average Pressure: %.2f\",m_avgPressure);\n",
    "    }\n",
    "\n",
    "};"
   ]
  },
  {
   "cell_type": "code",
   "execution_count": 9,
   "metadata": {},
   "outputs": [],
   "source": [
    "    CWeatherData weatherData;\n",
    "\n",
    "    CCurrentConditionDisplay currentCondition(weatherData);\n",
    "\n",
    "    CStatisticDisplay statisticDisplay(weatherData);\n",
    "\n",
    "    weatherData.setMeasurement(30,50,20);\n",
    "    weatherData.setMeasurement(35,48,19);\n"
   ]
  }
 ],
 "metadata": {
  "kernelspec": {
   "display_name": "C++14",
   "language": "C++14",
   "name": "xcpp14"
  },
  "language_info": {
   "codemirror_mode": "text/x-c++src",
   "file_extension": ".cpp",
   "mimetype": "text/x-c++src",
   "name": "c++",
   "version": "-std=c++14"
  }
 },
 "nbformat": 4,
 "nbformat_minor": 2
}
